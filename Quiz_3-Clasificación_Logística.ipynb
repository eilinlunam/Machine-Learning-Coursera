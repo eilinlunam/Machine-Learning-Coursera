{
 "cells": [
  {
   "cell_type": "markdown",
   "metadata": {},
   "source": [
    "# Quiz 3"
   ]
  },
  {
   "cell_type": "code",
   "execution_count": 1,
   "metadata": {},
   "outputs": [],
   "source": [
    "import turicreate"
   ]
  },
  {
   "cell_type": "code",
   "execution_count": 2,
   "metadata": {},
   "outputs": [],
   "source": [
    "products = turicreate.SFrame('data/amazon_baby.sframe')"
   ]
  },
  {
   "cell_type": "code",
   "execution_count": 3,
   "metadata": {},
   "outputs": [],
   "source": [
    "# Se ignoran poductos cuyo puntaje es 3\n",
    "products = products[products['rating']!= 3]"
   ]
  },
  {
   "cell_type": "code",
   "execution_count": 4,
   "metadata": {},
   "outputs": [],
   "source": [
    "# Conteo de palabras en cada review\n",
    "products['word_count'] = turicreate.text_analytics.count_words(products['review'])"
   ]
  },
  {
   "cell_type": "code",
   "execution_count": 5,
   "metadata": {},
   "outputs": [],
   "source": [
    "# Sentiment es una variable binaria, 1 si raiting>=4, 0 si <3.\n",
    "products['sentiment'] = products['rating'] >= 4"
   ]
  },
  {
   "cell_type": "code",
   "execution_count": 6,
   "metadata": {},
   "outputs": [],
   "source": [
    "selected_words = ['awesome', 'great', 'fantastic', 'amazing', 'love',\n",
    "                  'horrible', 'bad', 'terrible', 'awful', 'wow', 'hate']"
   ]
  },
  {
   "cell_type": "markdown",
   "metadata": {},
   "source": [
    "## Pregunta 1. \n",
    "**Utilice .apply () para crear una nueva función con los recuentos de cada una de las `selected_words`**: En el Notebook de la clase, se creó una columna `word_count` con el recuento de palabras para cada reseña. La primera tarea es crear una nueva columna en los productos SFrame con los recuentos de cada `selected_word` anterior y, en el proceso, verá cómo se puede usar el método .apply () para crear nuevas columnas en los datos (nuestras características) y cómo usar una función de Python, ¡que es un concepto extremadamente útil de comprender!"
   ]
  },
  {
   "cell_type": "code",
   "execution_count": 7,
   "metadata": {},
   "outputs": [],
   "source": [
    "# Crea nuevas columnas con cada palabra de selected_words que\n",
    "# contienen el número de veces que aparecen en cada review.\n",
    "for word in selected_words:\n",
    "    select_word_count = lambda dic: dic[word] if word in dic else 0\n",
    "    products[word] = products['word_count'].apply(select_word_count, dtype=int)"
   ]
  },
  {
   "cell_type": "code",
   "execution_count": 8,
   "metadata": {},
   "outputs": [
    {
     "data": {
      "text/plain": [
       "{'awesome': 3892,\n",
       " 'great': 55791,\n",
       " 'fantastic': 1664,\n",
       " 'amazing': 2628,\n",
       " 'love': 41994,\n",
       " 'horrible': 1110,\n",
       " 'bad': 4183,\n",
       " 'terrible': 1146,\n",
       " 'awful': 687,\n",
       " 'wow': 425,\n",
       " 'hate': 1107}"
      ]
     },
     "execution_count": 8,
     "metadata": {},
     "output_type": "execute_result"
    }
   ],
   "source": [
    "# Calcula el numero total de plabras en selected_words\n",
    "total_words = {}\n",
    "for word in selected_words:\n",
    "    total_words[word]=products[word].sum()\n",
    "total_words"
   ]
  },
  {
   "cell_type": "code",
   "execution_count": 9,
   "metadata": {},
   "outputs": [
    {
     "name": "stdout",
     "output_type": "stream",
     "text": [
      "max:  great\n",
      "min:  wow\n"
     ]
    }
   ],
   "source": [
    "# Imprime la palabra más y menos utilizada de select_words\n",
    "print('max: ',max(total_words, key=total_words.get))\n",
    "print('min: ',min(total_words, key=total_words.get))"
   ]
  },
  {
   "cell_type": "markdown",
   "metadata": {},
   "source": [
    "## Pregunta 2\n",
    "\n",
    "2. **Cree un nuevo modelo de análisis de sentimientos usando solo las `selected_words` como características:** En el Jupyter Notebook de la clase, se usó el recuento para todas las palabras como características para nuestro clasificador de sentimientos. Ahora, solo usará las `selected_words`:"
   ]
  },
  {
   "cell_type": "code",
   "execution_count": 10,
   "metadata": {},
   "outputs": [],
   "source": [
    "# Se dividen aleatoriamente los datos en un conjunto de entrenamiento (80%) \n",
    "# y un conjunto de prueba (20%).\n",
    "train_data,test_data = products.random_split(.8,seed=0)"
   ]
  },
  {
   "cell_type": "markdown",
   "metadata": {},
   "source": [
    "### Modelo `selected_words`:\n",
    "\n",
    "Se crea un modelo de regresión logística para clasificar los productos según las palabras seleccionadas: `selected_words` para saber si sus críticas son **positivas** o **negativas**.\n",
    "\n",
    "+ Con este enfoque, ordene los coeficientes aprendidos de acuerdo con la columna \"valor\" usando .sort(). De las 11 palabras de selected_words, ¿cuál obtuvo el peso más positivo? ¿Cuál obtuvo el peso más negativo? ¿Estos valores tienen sentido para ti?"
   ]
  },
  {
   "cell_type": "code",
   "execution_count": 11,
   "metadata": {},
   "outputs": [],
   "source": [
    "# Modelo de clasificación logística con selected_word\n",
    "selected_words_model = turicreate.logistic_classifier.create(\n",
    "    train_data,target='sentiment',\n",
    "    features=selected_words,\n",
    "    validation_set=test_data,\n",
    "    verbose=False)"
   ]
  },
  {
   "cell_type": "code",
   "execution_count": 12,
   "metadata": {},
   "outputs": [
    {
     "name": "stdout",
     "output_type": "stream",
     "text": [
      "+-------------+-------+-------+----------------------+----------------------+\n",
      "|     name    | index | class |        value         |        stderr        |\n",
      "+-------------+-------+-------+----------------------+----------------------+\n",
      "|     love    |  None |   1   |  1.3592688669224757  | 0.028068300152099997 |\n",
      "| (intercept) |  None |   1   |  1.3365913848878148  | 0.008929969787657532 |\n",
      "|   awesome   |  None |   1   |  1.1335346660341103  | 0.08399643983187567  |\n",
      "|   amazing   |  None |   1   |  1.1000933113659914  | 0.09954776260465965  |\n",
      "|  fantastic  |  None |   1   |  0.8858047568813963  | 0.11167591293399713  |\n",
      "|    great    |  None |   1   |  0.8630655001195999  | 0.018955052444380473 |\n",
      "|     wow     |  None |   1   | -0.00953823606771224 |  0.1604641122471162  |\n",
      "|     bad     |  None |   1   | -0.9914778800650894  | 0.03848428664699065  |\n",
      "|     hate    |  None |   1   | -1.3484407222463402  | 0.07715698604297318  |\n",
      "|    awful    |  None |   1   |  -2.05290820403138   |  0.1009973543525922  |\n",
      "|   terrible  |  None |   1   | -2.2236614360851554  | 0.07731736203785729  |\n",
      "|   horrible  |  None |   1   |  -2.251335236759124  | 0.08020249388788399  |\n",
      "+-------------+-------+-------+----------------------+----------------------+\n",
      "[12 rows x 5 columns]\n",
      "\n"
     ]
    }
   ],
   "source": [
    "# Examinando los coeficientes generados por el clasificador\n",
    "coeff = selected_words_model.coefficients.sort('value', ascending=False)\n",
    "coeff.print_rows(num_rows=12, num_columns=5)"
   ]
  },
  {
   "cell_type": "code",
   "execution_count": 13,
   "metadata": {},
   "outputs": [
    {
     "name": "stdout",
     "output_type": "stream",
     "text": [
      "Positivo: love\n",
      "Negativo: horrible\n"
     ]
    }
   ],
   "source": [
    "# Palabra con peso mas positivo\n",
    "print(\"Positivo:\",coeff['name'][0])\n",
    "# Palabra con peso mas negativo\n",
    "print(\"Negativo:\",coeff['name'][-1])"
   ]
  },
  {
   "cell_type": "markdown",
   "metadata": {},
   "source": [
    "## Pregunta 3\n",
    "\n",
    "**Comparación de la precisión de diferentes modelos de análisis de sentimientos:** \n",
    "+ ¿Cuál es la precisión de `selected_words_model` en `test_data?` \n",
    "+ ¿Cuál fue la precisión del modelo `sentiment_model` que aprendimos usando todos los recuentos de palabras en el Cuaderno de Jupyter anterior de las conferencias?\n",
    "+ ¿Cuál es el clasificador de clase mayoritario de precisión en esta tarea? \n",
    "+ ¿Cómo compara los diferentes modelos aprendidos con el enfoque de línea de base donde solo estamos prediciendo la clase mayoritaria? \n",
    "\n",
    "Sugerencia: discutimos el clasificador de clases mayoritarias en la conferencia, que simplemente predice que cada punto de datos es de la clase más común. Esta es la línea de base es algo que definitivamente queremos superar con los modelos que aprendemos de los datos."
   ]
  },
  {
   "cell_type": "markdown",
   "metadata": {},
   "source": [
    "### Modelo selected_words_model "
   ]
  },
  {
   "cell_type": "code",
   "execution_count": 14,
   "metadata": {},
   "outputs": [
    {
     "data": {
      "text/plain": [
       "0.8463848186404036"
      ]
     },
     "execution_count": 14,
     "metadata": {},
     "output_type": "execute_result"
    }
   ],
   "source": [
    "accuracy_selected_model = selected_words_model.evaluate(test_data)['accuracy']\n",
    "accuracy_selected_model "
   ]
  },
  {
   "cell_type": "markdown",
   "metadata": {},
   "source": [
    "### Modelo sentiment_model"
   ]
  },
  {
   "cell_type": "code",
   "execution_count": 15,
   "metadata": {},
   "outputs": [],
   "source": [
    "sentiment_model = turicreate.logistic_classifier.create(\n",
    "    train_data,                                                    \n",
    "    target='sentiment',                                                    \n",
    "    features=['word_count'],\n",
    "    validation_set=test_data,\n",
    "    verbose=False)"
   ]
  },
  {
   "cell_type": "code",
   "execution_count": 16,
   "metadata": {},
   "outputs": [
    {
     "data": {
      "text/plain": [
       "0.9176975738650012"
      ]
     },
     "execution_count": 16,
     "metadata": {},
     "output_type": "execute_result"
    }
   ],
   "source": [
    "accuracy_sentiment_model = sentiment_model.evaluate(test_data)['accuracy']\n",
    "accuracy_sentiment_model "
   ]
  },
  {
   "cell_type": "markdown",
   "metadata": {},
   "source": [
    "### Clase mayoritaria"
   ]
  },
  {
   "cell_type": "code",
   "execution_count": 17,
   "metadata": {},
   "outputs": [
    {
     "data": {
      "text/plain": [
       "0.8400192169108815"
      ]
     },
     "execution_count": 17,
     "metadata": {},
     "output_type": "execute_result"
    }
   ],
   "source": [
    "num = test_data[test_data['sentiment']==1].shape[0]\n",
    "den = test_data.shape[0]\n",
    "majority_class = num/den\n",
    "majority_class"
   ]
  },
  {
   "cell_type": "markdown",
   "metadata": {},
   "source": [
    "## Pregunta 4\n",
    "\n",
    "4. **Interpretación de la diferencia de rendimiento entre los modelos:** para comprender por qué el modelo con todos los recuentos de palabras funciona mejor que el modelo con solo las palabras_seleccionadas, ahora se examinarán las reseñas de un producto en particular.\n",
    "\n",
    "+ Se investigara un producto llamado \"Baby Trend Diaper Champ\". (Este es un bote de basura para pañales de bebé sucios, que mantiene el olor contenido). Al igual que con las reseñas del juguete de jirafa en el video de la conferencia, debe seleccionar todas las reseñas donde el nombre del producto sea \"Baby Trend Diaper Champ\". Llamemos a esta tabla diaper_champ_reviews.\n",
    "\n",
    "+ Nuevamente, al igual que en el video, use sentiment_model para predecir el sentimiento de cada reseña en diaper_champ_reviews y ordene los resultados de acuerdo con su \"predicted_sentiment\".\n",
    "\n",
    "+ ¿Cuál es el \"predicted_sentiment\" de la revisión más positiva para \"Baby Trend Diaper Champ\" según el sentiment_model del Jupyter Notebook de la conferencia? \n",
    "\n",
    "+ Ahora use el modelo de palabras_seleccionadas que aprendió usando solo las palabras_seleccionadas para predecir la opinión más positiva que encontró anteriormente. "
   ]
  },
  {
   "cell_type": "markdown",
   "metadata": {},
   "source": [
    "### Model sentiment"
   ]
  },
  {
   "cell_type": "code",
   "execution_count": 18,
   "metadata": {},
   "outputs": [],
   "source": [
    "# Se predicen los sentimientos con el modelo sentiment\n",
    "products['predicted_sentiment'] = sentiment_model.predict(\n",
    "    products,                                                      \n",
    "    output_type = 'probability')"
   ]
  },
  {
   "cell_type": "code",
   "execution_count": 19,
   "metadata": {},
   "outputs": [],
   "source": [
    "# Se selecciona el producto 'Baby Trend Diaper Champ'\n",
    "diaper_champ_reviews = products[products['name'] == 'Baby Trend Diaper Champ']"
   ]
  },
  {
   "cell_type": "code",
   "execution_count": 20,
   "metadata": {},
   "outputs": [],
   "source": [
    "# Se ordenan las críticas de acuerdo al sentimiento predicho de mayor a menor\n",
    "diaper_champ_reviews = diaper_champ_reviews.sort(\n",
    "    'predicted_sentiment', ascending=False)"
   ]
  },
  {
   "cell_type": "code",
   "execution_count": 21,
   "metadata": {},
   "outputs": [
    {
     "data": {
      "text/html": [
       "<div style=\"max-height:1000px;max-width:1500px;overflow:auto;\"><table frame=\"box\" rules=\"cols\">\n",
       "    <tr>\n",
       "        <th style=\"padding-left: 1em; padding-right: 1em; text-align: center\">name</th>\n",
       "        <th style=\"padding-left: 1em; padding-right: 1em; text-align: center\">review</th>\n",
       "        <th style=\"padding-left: 1em; padding-right: 1em; text-align: center\">rating</th>\n",
       "        <th style=\"padding-left: 1em; padding-right: 1em; text-align: center\">predicted_sentiment</th>\n",
       "    </tr>\n",
       "    <tr>\n",
       "        <td style=\"padding-left: 1em; padding-right: 1em; text-align: center; vertical-align: top\">Baby Trend Diaper Champ</td>\n",
       "        <td style=\"padding-left: 1em; padding-right: 1em; text-align: center; vertical-align: top\">I read a review below<br>that can explain exactly ...</td>\n",
       "        <td style=\"padding-left: 1em; padding-right: 1em; text-align: center; vertical-align: top\">4.0</td>\n",
       "        <td style=\"padding-left: 1em; padding-right: 1em; text-align: center; vertical-align: top\">0.9999999999895941</td>\n",
       "    </tr>\n",
       "</table>\n",
       "[1 rows x 4 columns]<br/>\n",
       "</div>"
      ],
      "text/plain": [
       "Columns:\n",
       "\tname\tstr\n",
       "\treview\tstr\n",
       "\trating\tfloat\n",
       "\tpredicted_sentiment\tfloat\n",
       "\n",
       "Rows: 1\n",
       "\n",
       "Data:\n",
       "+-------------------------+-------------------------------+--------+\n",
       "|           name          |             review            | rating |\n",
       "+-------------------------+-------------------------------+--------+\n",
       "| Baby Trend Diaper Champ | I read a review below that... |  4.0   |\n",
       "+-------------------------+-------------------------------+--------+\n",
       "+---------------------+\n",
       "| predicted_sentiment |\n",
       "+---------------------+\n",
       "|  0.9999999999895941 |\n",
       "+---------------------+\n",
       "[1 rows x 4 columns]"
      ]
     },
     "execution_count": 21,
     "metadata": {},
     "output_type": "execute_result"
    }
   ],
   "source": [
    "# Se calula valor del más positivo de acuerdo al modelo sentiment.\n",
    "diaper_champ_reviews.select_columns(['name', 'review', 'rating', 'predicted_sentiment']).head(1)"
   ]
  },
  {
   "cell_type": "markdown",
   "metadata": {},
   "source": [
    "### Model selected words"
   ]
  },
  {
   "cell_type": "code",
   "execution_count": 22,
   "metadata": {},
   "outputs": [
    {
     "data": {
      "text/plain": [
       "0.7919288370624551"
      ]
     },
     "execution_count": 22,
     "metadata": {},
     "output_type": "execute_result"
    }
   ],
   "source": [
    "# Se calcula el valor predicho con el modelo selected_words para el más positivo\n",
    "# en el modelo sentiment.\n",
    "value = selected_words_model.predict(diaper_champ_reviews[0], \n",
    "                                     output_type='probability')\n",
    "value[0]"
   ]
  },
  {
   "cell_type": "code",
   "execution_count": null,
   "metadata": {},
   "outputs": [],
   "source": []
  }
 ],
 "metadata": {
  "kernelspec": {
   "display_name": "Python 3",
   "language": "python",
   "name": "python3"
  },
  "language_info": {
   "codemirror_mode": {
    "name": "ipython",
    "version": 3
   },
   "file_extension": ".py",
   "mimetype": "text/x-python",
   "name": "python",
   "nbconvert_exporter": "python",
   "pygments_lexer": "ipython3",
   "version": "3.7.9"
  }
 },
 "nbformat": 4,
 "nbformat_minor": 4
}
