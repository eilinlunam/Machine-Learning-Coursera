{
 "cells": [
  {
   "cell_type": "markdown",
   "metadata": {},
   "source": [
    "# Quiz 2"
   ]
  },
  {
   "cell_type": "code",
   "execution_count": 1,
   "metadata": {},
   "outputs": [],
   "source": [
    "import turicreate"
   ]
  },
  {
   "cell_type": "code",
   "execution_count": 2,
   "metadata": {},
   "outputs": [],
   "source": [
    "sales = turicreate.SFrame('data/home_data.sframe')"
   ]
  },
  {
   "cell_type": "markdown",
   "metadata": {},
   "source": [
    "## Pregunta 1\n",
    "\n",
    "1. **Selección y resumen de estadísticas:** en el Notebook que se utilizó en el módulo, se descubrió qué vecindario (código postal) de Seattle tenía el precio promedio de venta de vivienda más alto. Ahora, tome los datos de ventas, seleccione solo las casas con este código postal y calcule el precio promedio. Guarde este resultado para responder la prueba al final."
   ]
  },
  {
   "cell_type": "code",
   "execution_count": 3,
   "metadata": {},
   "outputs": [
    {
     "data": {
      "text/html": [
       "<div style=\"max-height:1000px;max-width:1500px;overflow:auto;\"><table frame=\"box\" rules=\"cols\">\n",
       "    <tr>\n",
       "        <th style=\"padding-left: 1em; padding-right: 1em; text-align: center\">zipcode</th>\n",
       "        <th style=\"padding-left: 1em; padding-right: 1em; text-align: center\">count</th>\n",
       "        <th style=\"padding-left: 1em; padding-right: 1em; text-align: center\">mean_price</th>\n",
       "    </tr>\n",
       "    <tr>\n",
       "        <td style=\"padding-left: 1em; padding-right: 1em; text-align: center; vertical-align: top\">98039</td>\n",
       "        <td style=\"padding-left: 1em; padding-right: 1em; text-align: center; vertical-align: top\">50</td>\n",
       "        <td style=\"padding-left: 1em; padding-right: 1em; text-align: center; vertical-align: top\">2160606.6</td>\n",
       "    </tr>\n",
       "</table>\n",
       "[1 rows x 3 columns]<br/>\n",
       "</div>"
      ],
      "text/plain": [
       "Columns:\n",
       "\tzipcode\tstr\n",
       "\tcount\tint\n",
       "\tmean_price\tfloat\n",
       "\n",
       "Rows: 1\n",
       "\n",
       "Data:\n",
       "+---------+-------+------------+\n",
       "| zipcode | count | mean_price |\n",
       "+---------+-------+------------+\n",
       "|  98039  |   50  | 2160606.6  |\n",
       "+---------+-------+------------+\n",
       "[1 rows x 3 columns]"
      ]
     },
     "execution_count": 3,
     "metadata": {},
     "output_type": "execute_result"
    }
   ],
   "source": [
    "# Se agrupan los datos por su 'código zip'.\n",
    "# Se calcula el numero de casas en cada codigo zip.\n",
    "# Se calcula el precio promedio de casas en cada codigo zip.\n",
    "user_count = sales.groupby('zipcode', \n",
    "                           {     'count':turicreate.aggregate.COUNT(),  \n",
    "                            'mean_price':turicreate.aggregate.MEAN('price')}) \n",
    "\n",
    "MaxPrice = user_count['mean_price'].max()\n",
    "user_count[user_count['mean_price']==MaxPrice].head()"
   ]
  },
  {
   "cell_type": "markdown",
   "metadata": {},
   "source": [
    "## Pregunta 2\n",
    "\n",
    "2. **Filtrado de datos:** una de las características clave que usamos en nuestro modelo fue la cantidad de pies cuadrados de cada espacio (\"sqft_living\") en la casa. Para esta parte, se usa la idea de filtrar (seleccionar) datos.  En particular, se utilizarán filtros lógicos para seleccionar filas de un SFrame.\n",
    "    + Utilizando dichos filtros, primero seleccione las casas que tienen \"sqft_living\" más de 2000 pies cuadrados pero no mayores de 4000 pies cuadrados.\n",
    "    + ¿Qué fracción de todas las casas tiene \"sqft_living\" en este rango? "
   ]
  },
  {
   "cell_type": "code",
   "execution_count": 4,
   "metadata": {},
   "outputs": [],
   "source": [
    "sales_filtered = sales[(sales['sqft_living']>2000)&(sales['sqft_living']<4000)]\n",
    "Nsales = sales.shape[0]\n",
    "Nsales_filtered = sales_filtered.shape[0]\n",
    "p = Nsales_filtered/Nsales"
   ]
  },
  {
   "cell_type": "code",
   "execution_count": 5,
   "metadata": {},
   "outputs": [
    {
     "name": "stdout",
     "output_type": "stream",
     "text": [
      "Numero de salas filtradas:  9111\n",
      "          Numero de salas:  21613\n",
      "               Proporción:  0.4216\n"
     ]
    }
   ],
   "source": [
    "print(\"Numero de salas filtradas: \", Nsales_filtered)\n",
    "print(\"          Numero de salas: \", Nsales)\n",
    "print(\"               Proporción: \", round(p,4))"
   ]
  },
  {
   "cell_type": "markdown",
   "metadata": {},
   "source": [
    "## Pregunta 3\n",
    "\n",
    "3. **Creación de un modelo de regresión con varias características más:** en el Notebook de muestra, se creó dos modelos de regresión para predecir los precios de la vivienda, uno usando solo \"sqft_living\" y el otro usando algunas características más, este conjunto fue llamado:\n",
    "\n",
    "    `my_features = ['bedrooms', 'bathrooms', 'sqft_living', 'sqft_lot', 'floors', 'zipcode']`\n",
    "\n",
    "    Ahora, volviendo al conjunto de datos original, creará un modelo con las siguientes características:\n",
    "\n",
    "    `advanced_features = [...]`\n",
    "\n",
    "    + Calcule el **RMSE (error cuadrático medio)** en test_data para el modelo que usa solo my_features, y para el que usa advanced_features.\n",
    "\n",
    "    $$ RMSE = \\sqrt{\\frac{RSS}{N}} $$\n",
    "\n",
    "    + ¿Cuál es la diferencia en RMSE entre el modelo entrenado con **my_features** y el entrenado con **advanced_features**? "
   ]
  },
  {
   "cell_type": "markdown",
   "metadata": {},
   "source": [
    "### Partición de los datos"
   ]
  },
  {
   "cell_type": "code",
   "execution_count": 6,
   "metadata": {},
   "outputs": [],
   "source": [
    "# Se dividen aleatoriamente los datos en un conjunto de entrenamiento (80%) \n",
    "# y un conjunto de prueba (20%).\n",
    "training_set, test_set = sales.random_split(.8,seed=0)"
   ]
  },
  {
   "cell_type": "markdown",
   "metadata": {},
   "source": [
    "### Modelo 1\n",
    "\n",
    "Se crea un modelo de regresión lineal para predecir el **precio** (objetivo) con las características: `my_features`."
   ]
  },
  {
   "cell_type": "code",
   "execution_count": 7,
   "metadata": {},
   "outputs": [],
   "source": [
    "# Caracteristicas\n",
    "my_features = ['bedrooms','bathrooms','sqft_living','sqft_lot','floors','zipcode']"
   ]
  },
  {
   "cell_type": "code",
   "execution_count": 8,
   "metadata": {},
   "outputs": [],
   "source": [
    "# Modelo de regresion lineal\n",
    "my_features_model = turicreate.linear_regression.create(\n",
    "    training_set,\n",
    "    target='price',\n",
    "    features=my_features,\n",
    "    validation_set = None,\n",
    "    verbose=False)"
   ]
  },
  {
   "cell_type": "code",
   "execution_count": 9,
   "metadata": {},
   "outputs": [
    {
     "data": {
      "text/plain": [
       "180439.07296639626"
      ]
     },
     "execution_count": 9,
     "metadata": {},
     "output_type": "execute_result"
    }
   ],
   "source": [
    "# Calcula el error\n",
    "e_model1 = my_features_model.evaluate(test_set)\n",
    "RMSE_model1 = e_model1['rmse']\n",
    "RMSE_model1"
   ]
  },
  {
   "cell_type": "markdown",
   "metadata": {},
   "source": [
    "### Modelo 2\n",
    "\n",
    "Se crea un modelo de regresión lineal para predecir el **precio** (objetivo) con las características: `advanced_features`."
   ]
  },
  {
   "cell_type": "code",
   "execution_count": 10,
   "metadata": {},
   "outputs": [],
   "source": [
    "# Caracteristicas avanzadas\n",
    "advanced_features = [\n",
    "    'bedrooms', 'bathrooms', 'sqft_living', 'sqft_lot', 'floors', 'zipcode',\n",
    "    'condition', # condition of house\n",
    "    'grade', # measure of quality of construction\n",
    "    'waterfront', # waterfront property\n",
    "    'view', # type of view\n",
    "    'sqft_above', # square feet above ground\n",
    "    'sqft_basement', # square feet in basement\n",
    "    'yr_built', # the year built\n",
    "    'yr_renovated', # the year renovated\n",
    "    'lat', 'long', # the lat-long of the parcel\n",
    "    'sqft_living15', # average sq.ft. of 15 nearest neighbors\n",
    "    'sqft_lot15', # average lot size of 15 nearest neighbors \n",
    "]"
   ]
  },
  {
   "cell_type": "code",
   "execution_count": 11,
   "metadata": {},
   "outputs": [],
   "source": [
    "# Modelo de regresion lineal\n",
    "advanced_features_model = turicreate.linear_regression.create(\n",
    "    training_set,\n",
    "    target='price',\n",
    "    features=advanced_features,\n",
    "    validation_set = None,\n",
    "    verbose=False)"
   ]
  },
  {
   "cell_type": "code",
   "execution_count": 12,
   "metadata": {},
   "outputs": [
    {
     "data": {
      "text/plain": [
       "155269.65792732083"
      ]
     },
     "execution_count": 12,
     "metadata": {},
     "output_type": "execute_result"
    }
   ],
   "source": [
    "# Calcula el error\n",
    "e_model2 = advanced_features_model.evaluate(test_set)\n",
    "RMSE_model2 = e_model2['rmse']\n",
    "RMSE_model2"
   ]
  },
  {
   "cell_type": "markdown",
   "metadata": {},
   "source": [
    "### Diferencia de errores"
   ]
  },
  {
   "cell_type": "code",
   "execution_count": 13,
   "metadata": {},
   "outputs": [
    {
     "data": {
      "text/plain": [
       "25169.415039075422"
      ]
     },
     "execution_count": 13,
     "metadata": {},
     "output_type": "execute_result"
    }
   ],
   "source": [
    "# Diferencia de RMSE del modelo 1 y modelo 2_\n",
    "difference = RMSE_model1 - RMSE_model2\n",
    "difference"
   ]
  },
  {
   "cell_type": "code",
   "execution_count": null,
   "metadata": {},
   "outputs": [],
   "source": []
  }
 ],
 "metadata": {
  "kernelspec": {
   "display_name": "Python 2",
   "language": "python",
   "name": "python2"
  },
  "language_info": {
   "codemirror_mode": {
    "name": "ipython",
    "version": 3
   },
   "file_extension": ".py",
   "mimetype": "text/x-python",
   "name": "python",
   "nbconvert_exporter": "python",
   "pygments_lexer": "ipython3",
   "version": "3.7.9"
  }
 },
 "nbformat": 4,
 "nbformat_minor": 2
}
